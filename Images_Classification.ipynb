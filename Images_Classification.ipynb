{
  "nbformat": 4,
  "nbformat_minor": 0,
  "metadata": {
    "colab": {
      "name": "Image_Classification.ipynb",
      "provenance": [],
      "private_outputs": true
    },
    "kernelspec": {
      "name": "python3",
      "display_name": "Python 3"
    },
    "accelerator": "GPU"
  },
  "cells": [
    {
      "cell_type": "code",
      "metadata": {
        "id": "G6O3akFd9M7r",
        "colab_type": "code",
        "colab": {}
      },
      "source": [
        "!pip install split-folders"
      ],
      "execution_count": null,
      "outputs": []
    },
    {
      "cell_type": "code",
      "metadata": {
        "id": "1uL31LiEKiMy",
        "colab_type": "code",
        "colab": {}
      },
      "source": [
        "# import library yang dibutuhkan\n",
        "import zipfile,os\n",
        "import splitfolders as sf\n",
        "import tensorflow as tf\n",
        "import numpy as np\n",
        "import matplotlib.pyplot as plt\n",
        "import matplotlib.image as mpimg\n",
        "import matplotlib.image as mpimg\n",
        "from tensorflow.keras.preprocessing.image import ImageDataGenerator\n",
        "from tensorflow.keras import regularizers\n",
        "from tensorflow.keras.optimizers import RMSprop\n",
        "from google.colab import files\n",
        "from keras.preprocessing import image"
      ],
      "execution_count": null,
      "outputs": []
    },
    {
      "cell_type": "code",
      "metadata": {
        "id": "TP3GUZbr_XdJ",
        "colab_type": "code",
        "colab": {}
      },
      "source": [
        "# mendownload datasets\n",
        "!wget --no-check-certificate \\\n",
        "  https://dicodingacademy.blob.core.windows.net/picodiploma/ml_pemula_academy/rockpaperscissors.zip \\\n",
        "  -O /tmp/rock_paper_scissors.zip"
      ],
      "execution_count": null,
      "outputs": []
    },
    {
      "cell_type": "code",
      "metadata": {
        "id": "fJV418GsR_dT",
        "colab_type": "code",
        "colab": {}
      },
      "source": [
        "# ekstraksi file zip yang telah didownload\n",
        "import zipfile,os\n",
        "local_zip = '/tmp/rock_paper_scissors.zip'\n",
        "zip_ref = zipfile.ZipFile(local_zip, 'r')\n",
        "zip_ref.extractall('/tmp')\n",
        "zip_ref.close()"
      ],
      "execution_count": null,
      "outputs": []
    },
    {
      "cell_type": "code",
      "metadata": {
        "id": "51ayP-KvI2Jh",
        "colab_type": "code",
        "colab": {}
      },
      "source": [
        "# membagi folder menjadi train dan validation dengan split_folders\n",
        "sf.ratio('/tmp/rockpaperscissors/rps-cv-images', output=\"/tmp/images\", seed=1337, ratio=(.8, .2))\n",
        "# membuat direktori data train dan data test\n",
        "base_dir='/tmp/images'\n",
        "train_dir = os.path.join(base_dir, 'train')\n",
        "val_dir = os.path.join(base_dir, 'val')"
      ],
      "execution_count": null,
      "outputs": []
    },
    {
      "cell_type": "code",
      "metadata": {
        "id": "qKAcanUJ8uwQ",
        "colab_type": "code",
        "colab": {}
      },
      "source": [
        "os.listdir('/tmp/images')"
      ],
      "execution_count": null,
      "outputs": []
    },
    {
      "cell_type": "code",
      "metadata": {
        "id": "VSwD2lvG8Jt5",
        "colab_type": "code",
        "colab": {}
      },
      "source": [
        "os.listdir('/tmp/images/train')\n",
        "os.listdir('/tmp/images/val')"
      ],
      "execution_count": null,
      "outputs": []
    },
    {
      "cell_type": "code",
      "metadata": {
        "id": "Ae6lqP_l8nR2",
        "colab_type": "code",
        "colab": {}
      },
      "source": [
        "print('total Train images :', len(os.listdir('/tmp/images/train/paper')) + len(os.listdir('/tmp/images/train/rock')) + len(os.listdir('/tmp/images/train/scissors')))\n",
        "print('total Validation images :', len(os.listdir('/tmp/images/val/paper')) + len(os.listdir('/tmp/images/val/rock')) + len(os.listdir('/tmp/images/val/scissors')))"
      ],
      "execution_count": null,
      "outputs": []
    },
    {
      "cell_type": "code",
      "metadata": {
        "id": "CpLmoMThLDHI",
        "colab_type": "code",
        "colab": {}
      },
      "source": [
        "train_rock_dir = os.path.join(train_dir, 'rock')  # directory data latih untuk gambar batu\n",
        "train_paper_dir = os.path.join(train_dir, 'paper') # directory data latih untuk gambar kertas\n",
        "train_scissors_dir = os.path.join(train_dir, 'scissors')  # directory data latih untuk gambar gunting\n",
        "val_rock_dir = os.path.join(val_dir, 'rock') # directory data validasi untuk gambar batu\n",
        "val_paper_dir = os.path.join(val_dir, 'paper') # directory data validasi untuk gambar kertas\n",
        "val_scissors_dir = os.path.join(val_dir, 'scissors') # directory data validasi untuk gambar gunting"
      ],
      "execution_count": null,
      "outputs": []
    },
    {
      "cell_type": "code",
      "metadata": {
        "id": "GMyh6xG23YaU",
        "colab_type": "code",
        "colab": {}
      },
      "source": [
        "print('total Paper images :', len(os.listdir(train_paper_dir)) + len(os.listdir(val_paper_dir)))\n",
        "print('total Rock images :', len(os.listdir(train_rock_dir)) + len(os.listdir(val_rock_dir)))\n",
        "print('total Scissors images :', len(os.listdir(train_scissors_dir)) + len(os.listdir(val_scissors_dir)))"
      ],
      "execution_count": null,
      "outputs": []
    },
    {
      "cell_type": "code",
      "metadata": {
        "id": "86tqhc2b39GS",
        "colab_type": "code",
        "colab": {}
      },
      "source": [
        "# melihat salah satu contoh gambar\n",
        "from keras.preprocessing import image\n",
        "import matplotlib.pyplot as plt\n",
        "import matplotlib.image as mpimg\n",
        "import matplotlib.pyplot as plt\n",
        "import matplotlib.image as mpimg\n",
        "%matplotlib inline\n",
        "img = image.load_img('/tmp/images/train/paper/BfFGJgByTJnxADwA.png')\n",
        "imgplot = plt.imshow(img)"
      ],
      "execution_count": null,
      "outputs": []
    },
    {
      "cell_type": "code",
      "metadata": {
        "id": "kOhUxzkmLi7f",
        "colab_type": "code",
        "colab": {}
      },
      "source": [
        "# membuat objek ImageDataGenerator untuk data train dan data test\n",
        "train_datagen = ImageDataGenerator(\n",
        "                    rescale=1./255,\n",
        "                    rotation_range=30,\n",
        "                    horizontal_flip=True,\n",
        "                    shear_range = 0.2,\n",
        "                    fill_mode = 'nearest')\n",
        " \n",
        "test_datagen = ImageDataGenerator(\n",
        "                    rescale=1./255,\n",
        "                    rotation_range=30,\n",
        "                    horizontal_flip=True,\n",
        "                    shear_range = 0.2,\n",
        "                    fill_mode = 'nearest')"
      ],
      "execution_count": null,
      "outputs": []
    },
    {
      "cell_type": "code",
      "metadata": {
        "id": "N08qaBeRLr4W",
        "colab_type": "code",
        "colab": {}
      },
      "source": [
        "# mempersiapkan data latih\n",
        "train_generator = train_datagen.flow_from_directory(\n",
        "        train_dir, # direktori data latih\n",
        "        target_size=(180, 180), # mengubah resolusi seluruh gambar menjadi 180x180 piksel\n",
        "        batch_size=16, # ukuran batch\n",
        "        shuffle=True, # mengacak data\n",
        "        # karena klasifikasi multiclass menggunakan 'sparse'\n",
        "        class_mode='sparse')\n",
        "# mempersiapkan data test \n",
        "validation_generator = test_datagen.flow_from_directory(\n",
        "        val_dir, # directori data validasi\n",
        "        target_size=(180, 180), # mengubah resolusi seluruh gambar menjadi 200x200 piksel\n",
        "        batch_size=16, # ukuran batch\n",
        "        shuffle=True, # mengacak data\n",
        "        # karena klasifikasi multiclass menggunakan 'sparse'\n",
        "        class_mode='sparse')"
      ],
      "execution_count": null,
      "outputs": []
    },
    {
      "cell_type": "code",
      "metadata": {
        "id": "qGwS3AIgwYkZ",
        "colab_type": "code",
        "colab": {}
      },
      "source": [
        "# membuat model CNN untuk pemrosesan gambar\n",
        "model = tf.keras.models.Sequential([\n",
        "    tf.keras.layers.Conv2D(32, (3,3), activation='relu', input_shape=(180, 180, 3)),\n",
        "    tf.keras.layers.MaxPooling2D(2, 2),\n",
        "    tf.keras.layers.Conv2D(64, (3,3), activation='relu'),\n",
        "    tf.keras.layers.MaxPooling2D(2,2),\n",
        "    tf.keras.layers.Conv2D(128, (3,3), activation='relu'),\n",
        "    tf.keras.layers.MaxPooling2D(2,2),\n",
        "    tf.keras.layers.Conv2D(128, (3,3), activation='relu'),\n",
        "    tf.keras.layers.MaxPooling2D(2,2),\n",
        "    tf.keras.layers.Flatten(),\n",
        "    tf.keras.layers.Dense(512, activation='relu',\n",
        "                          kernel_regularizer=regularizers.l2(0.0001),\n",
        "                          bias_regularizer=regularizers.l1(0.0001),\n",
        "                          activity_regularizer=regularizers.l1_l2(0.0001)),\n",
        "    tf.keras.layers.Dropout(0.2),\n",
        "    tf.keras.layers.Dense(512, activation='relu',\n",
        "                          kernel_regularizer=regularizers.l2(0.0001),\n",
        "                          bias_regularizer=regularizers.l1(0.0001),\n",
        "                          activity_regularizer=regularizers.l1_l2(0.0001)),\n",
        "    tf.keras.layers.Dropout(0.2),\n",
        "    tf.keras.layers.Dense(512, activation='relu',\n",
        "                          kernel_regularizer=regularizers.l2(0.0001),\n",
        "                          bias_regularizer=regularizers.l1(0.0001),\n",
        "                          activity_regularizer=regularizers.l1_l2(0.0001)),\n",
        "    tf.keras.layers.Dropout(0.2),\n",
        "    tf.keras.layers.Dense(3, activation='softmax')\n",
        "])\n",
        "# menggunakan 3 hidden layer, dropout=0.2, dan fungsi regularizers"
      ],
      "execution_count": null,
      "outputs": []
    },
    {
      "cell_type": "code",
      "metadata": {
        "id": "8rrGbRJEwdCh",
        "colab_type": "code",
        "colab": {}
      },
      "source": [
        "model.compile(loss='sparse_categorical_crossentropy', \n",
        "              # menggunakan loss function 'sparse_categorical_crossentropy' karena masalah klasifikasi multiclass \n",
        "              optimizer=tf.keras.optimizers.RMSprop(\n",
        "                  learning_rate=0.0001, rho=0.8, momentum=0.0, epsilon=1e-07, centered=True,\n",
        "                  name='RMSprop'\n",
        "              ),\n",
        "              #menggunakan optimizer RMSprop\n",
        "              metrics=['accuracy'])"
      ],
      "execution_count": null,
      "outputs": []
    },
    {
      "cell_type": "code",
      "metadata": {
        "id": "TI9YCZziwgoJ",
        "colab_type": "code",
        "colab": {}
      },
      "source": [
        "# menguji model\n",
        "history = model.fit(\n",
        "      train_generator,\n",
        "      steps_per_epoch=40,  # berapa batch yang akan dieksekusi pada setiap epoch\n",
        "      epochs=25, # jumlah epoch\n",
        "      validation_data=validation_generator, # menampilkan akurasi pengujian data validasi\n",
        "      validation_steps=7,  # berapa batch yang akan dieksekusi pada setiap epoch\n",
        "      verbose=2)"
      ],
      "execution_count": null,
      "outputs": []
    },
    {
      "cell_type": "code",
      "metadata": {
        "id": "AiUScaT0kjHU",
        "colab_type": "code",
        "colab": {}
      },
      "source": [
        "epochs_range = range(25)\n",
        "# menampilkan plot accuracy dalam bentuk grafik\n",
        "acc = history.history['accuracy']\n",
        "val_acc = history.history['val_accuracy']\n",
        "\n",
        "plt.figure(figsize=(12, 12))\n",
        "plt.subplot(2, 2, 3)\n",
        "plt.plot(epochs_range, acc, label='Training Accuracy')\n",
        "plt.plot(epochs_range, val_acc, label='Validation Accuracy')\n",
        "plt.legend(loc='best')\n",
        "plt.title('Grafik Accuracy')\n",
        "plt.show()"
      ],
      "execution_count": null,
      "outputs": []
    },
    {
      "cell_type": "code",
      "metadata": {
        "id": "YOqsLi-DviEH",
        "colab_type": "code",
        "colab": {}
      },
      "source": [
        "# menampilkan plot loss dalam bentuk grafik\n",
        "loss=history.history['loss']\n",
        "val_loss=history.history['val_loss']\n",
        "\n",
        "plt.figure(figsize=(6, 6))\n",
        "plt.subplot(1, 1, 1)\n",
        "plt.plot(epochs_range, loss, label='Training Loss')\n",
        "plt.plot(epochs_range, val_loss, label='Validation Loss')\n",
        "plt.legend(loc='best')\n",
        "plt.title('Grafik Loss')\n",
        "plt.show()"
      ],
      "execution_count": null,
      "outputs": []
    },
    {
      "cell_type": "code",
      "metadata": {
        "id": "ohtKcm-auqpw",
        "colab_type": "code",
        "colab": {}
      },
      "source": [
        "%matplotlib inline\n",
        "\n",
        "# upload gambar yang akan diuji\n",
        "uploaded = files.upload()\n",
        "\n",
        "for fn in uploaded.keys():\n",
        " \n",
        "  # memprediksi gambar\n",
        "  path = fn\n",
        "  img = image.load_img(path, target_size=(180,180))\n",
        "  imgplot = plt.imshow(img)\n",
        "  x = image.img_to_array(img)\n",
        "  x = np.expand_dims(x, axis=0)\n",
        "\n",
        "  images = np.vstack([x])\n",
        "  classes = model.predict(images, batch_size=10)\n",
        "\n",
        "print(\"\\n\")\n",
        "print(\"File\", fn, \"merupakan gambar:\")\n",
        "if classes[0][0]==1:\n",
        "  print(\"paper\")\n",
        "elif classes[0][1]==1:\n",
        "  print(\"rock\")\n",
        "else:\n",
        "  print(\"scissors\")"
      ],
      "execution_count": null,
      "outputs": []
    }
  ]
}
